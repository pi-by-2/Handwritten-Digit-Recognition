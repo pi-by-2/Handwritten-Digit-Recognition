{
 "cells": [
  {
   "cell_type": "markdown",
   "metadata": {},
   "source": [
    "Since we have taken 2 different approaches - using Machine Learning Algorithms (SVM, Random Forest, Logistic Regression, XGBoost) and using Convolutional Neural Network (Deep Learning), the results are obtained in separate notebooks. Here, we will attempt to plot the results based on **accuracy** and **time taken** obtained from both the approaches. Note however that in the Machine Learning notebook, we used 2 versions - models with PCA and without PCA. The graphs plotted below will be **without PCA**. The comparision of models with PCA and without it, will be present only within the Machine Learning models.\n",
    "#### The final report is linked in the Wiki"
   ]
  },
  {
   "cell_type": "code",
   "execution_count": 1,
   "metadata": {},
   "outputs": [],
   "source": [
    "import pandas as pd\n",
    "import matplotlib.pyplot as plt\n",
    "%matplotlib inline"
   ]
  },
  {
   "cell_type": "code",
   "execution_count": 2,
   "metadata": {},
   "outputs": [],
   "source": [
    "result = pd.read_csv('result.csv')"
   ]
  },
  {
   "cell_type": "code",
   "execution_count": 3,
   "metadata": {},
   "outputs": [
    {
     "data": {
      "text/html": [
       "<div>\n",
       "<style scoped>\n",
       "    .dataframe tbody tr th:only-of-type {\n",
       "        vertical-align: middle;\n",
       "    }\n",
       "\n",
       "    .dataframe tbody tr th {\n",
       "        vertical-align: top;\n",
       "    }\n",
       "\n",
       "    .dataframe thead th {\n",
       "        text-align: right;\n",
       "    }\n",
       "</style>\n",
       "<table border=\"1\" class=\"dataframe\">\n",
       "  <thead>\n",
       "    <tr style=\"text-align: right;\">\n",
       "      <th></th>\n",
       "      <th>Models</th>\n",
       "      <th>Validation Accuracy (%)</th>\n",
       "      <th>Training Accuracy (%)</th>\n",
       "      <th>Time Taken(seconds)</th>\n",
       "    </tr>\n",
       "  </thead>\n",
       "  <tbody>\n",
       "    <tr>\n",
       "      <th>0</th>\n",
       "      <td>SVM</td>\n",
       "      <td>96.28</td>\n",
       "      <td>99.11</td>\n",
       "      <td>131</td>\n",
       "    </tr>\n",
       "    <tr>\n",
       "      <th>1</th>\n",
       "      <td>Random Forest</td>\n",
       "      <td>96.64</td>\n",
       "      <td>100.00</td>\n",
       "      <td>67</td>\n",
       "    </tr>\n",
       "    <tr>\n",
       "      <th>2</th>\n",
       "      <td>Logistic Regression</td>\n",
       "      <td>91.53</td>\n",
       "      <td>93.21</td>\n",
       "      <td>33</td>\n",
       "    </tr>\n",
       "    <tr>\n",
       "      <th>3</th>\n",
       "      <td>XGBoost</td>\n",
       "      <td>93.45</td>\n",
       "      <td>94.82</td>\n",
       "      <td>429</td>\n",
       "    </tr>\n",
       "    <tr>\n",
       "      <th>4</th>\n",
       "      <td>CNN</td>\n",
       "      <td>99.78</td>\n",
       "      <td>99.78</td>\n",
       "      <td>447</td>\n",
       "    </tr>\n",
       "  </tbody>\n",
       "</table>\n",
       "</div>"
      ],
      "text/plain": [
       "                Models  Validation Accuracy (%)  Training Accuracy (%)  \\\n",
       "0                  SVM                    96.28                  99.11   \n",
       "1        Random Forest                    96.64                 100.00   \n",
       "2  Logistic Regression                    91.53                  93.21   \n",
       "3              XGBoost                    93.45                  94.82   \n",
       "4                  CNN                    99.78                  99.78   \n",
       "\n",
       "   Time Taken(seconds)  \n",
       "0                  131  \n",
       "1                   67  \n",
       "2                   33  \n",
       "3                  429  \n",
       "4                  447  "
      ]
     },
     "execution_count": 3,
     "metadata": {},
     "output_type": "execute_result"
    }
   ],
   "source": [
    "result"
   ]
  },
  {
   "cell_type": "code",
   "execution_count": 4,
   "metadata": {},
   "outputs": [
    {
     "data": {
      "image/png": "[encoded data removed]",
      "text/plain": [
       "<Figure size 432x288 with 1 Axes>"
      ]
     },
     "metadata": {
      "needs_background": "light"
     },
     "output_type": "display_data"
    }
   ],
   "source": [
    "plt.scatter(result.iloc[:,0], result.iloc[:, 1], c='red', marker = 'o', label='Validation')\n",
    "plt.scatter(result.iloc[:,0], result.iloc[:, 2], c='blue', marker = 's', label='Training')\n",
    "plt.legend()\n",
    "plt.xlabel('Model', fontsize=15)\n",
    "plt.ylabel('Accuracy (%)', fontsize=15)\n",
    "plt.title('Accuracy vs. Model', fontsize=20)\n",
    "plt.tight_layout()"
   ]
  },
  {
   "cell_type": "code",
   "execution_count": 7,
   "metadata": {},
   "outputs": [
    {
     "data": {
      "image/png": "[encoded data removed]",
      "text/plain": [
       "<Figure size 432x288 with 1 Axes>"
      ]
     },
     "metadata": {
      "needs_background": "light"
     },
     "output_type": "display_data"
    }
   ],
   "source": [
    "plt.scatter(result.iloc[:,0], result.iloc[:, 3], c='blue', marker = 'o')\n",
    "plt.xlabel('Model', fontsize=15)\n",
    "plt.ylabel('Time Taken (seconds)', fontsize=15)\n",
    "plt.title('Time Taken vs. Model', fontsize=20)\n",
    "plt.tight_layout()"
   ]
  }
 ],
 "metadata": {
  "kernelspec": {
   "display_name": "Python 3",
   "language": "python",
   "name": "python3"
  },
  "language_info": {
   "codemirror_mode": {
    "name": "ipython",
    "version": 3
   },
   "file_extension": ".py",
   "mimetype": "text/x-python",
   "name": "python",
   "nbconvert_exporter": "python",
   "pygments_lexer": "ipython3",
   "version": "3.7.3"
  }
 },
 "nbformat": 4,
 "nbformat_minor": 2
}
